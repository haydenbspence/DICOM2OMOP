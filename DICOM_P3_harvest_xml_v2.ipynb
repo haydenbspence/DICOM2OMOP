{
 "cells": [
  {
   "cell_type": "code",
   "execution_count": null,
   "metadata": {},
   "outputs": [],
   "source": [
    "import pandas as pd\n",
    "from bs4 import BeautifulSoup\n",
    "\n",
    "def load_and_parse_xml(file_path):\n",
    "    with open(file_path, 'r', encoding='utf-8') as file:\n",
    "        content = file.read()\n",
    "    return BeautifulSoup(content, 'lxml')\n",
    "\n",
    "def extract_information_to_dataframe(soup):\n",
    "    data = []\n",
    "    for obj in soup.find_all('obj'):\n",
    "        # Extract relevant details\n",
    "        element_details = {\n",
    "            'element': obj.get('element'),\n",
    "            'href': obj.get('href'),\n",
    "            'number': obj.get('number', 'N/A'),\n",
    "            'targetptr': obj.get('targetptr'),\n",
    "            'title': obj.find('ttl').text.strip() if obj.find('ttl') else 'No Title',\n",
    "            'xref_text': obj.find('xreftext').text.strip() if obj.find('xreftext') else 'No Cross-Reference Text'\n",
    "        }\n",
    "        data.append(element_details)\n",
    "    \n",
    "    return pd.DataFrame(data)\n"
   ]
  },
  {
   "cell_type": "code",
   "execution_count": null,
   "metadata": {},
   "outputs": [],
   "source": [
    "file_path = './sourceandrenderingpipeline/output/html/targetdb/PS3_03_target.db'  # Update path\n",
    "soup = load_and_parse_xml(file_path)\n",
    "df = extract_information_to_dataframe(soup)\n",
    "\n",
    "df.head(200)\n",
    "\n",
    "# df.to_csv('PS3_03_extract.csv', index=False)"
   ]
  }
 ],
 "metadata": {
  "kernelspec": {
   "display_name": "Python 3",
   "language": "python",
   "name": "python3"
  },
  "language_info": {
   "codemirror_mode": {
    "name": "ipython",
    "version": 3
   },
   "file_extension": ".py",
   "mimetype": "text/x-python",
   "name": "python",
   "nbconvert_exporter": "python",
   "pygments_lexer": "ipython3",
   "version": "3.12.1"
  }
 },
 "nbformat": 4,
 "nbformat_minor": 2
}
